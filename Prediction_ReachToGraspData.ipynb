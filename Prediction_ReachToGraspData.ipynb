{
  "nbformat": 4,
  "nbformat_minor": 0,
  "metadata": {
    "colab": {
      "provenance": [],
      "gpuType": "T4",
      "mount_file_id": "1gHkDGN9kOLP7QNDHKt7PvEjhBpmDm_-r",
      "authorship_tag": "ABX9TyMh92uU7/TdzcgeiDdK3PQG",
      "include_colab_link": true
    },
    "kernelspec": {
      "name": "python3",
      "display_name": "Python 3"
    },
    "language_info": {
      "name": "python"
    },
    "accelerator": "GPU"
  },
  "cells": [
    {
      "cell_type": "markdown",
      "metadata": {
        "id": "view-in-github",
        "colab_type": "text"
      },
      "source": [
        "<a href=\"https://colab.research.google.com/github/senakilinc/ReachToGraspPrediction/blob/main/Prediction_ReachToGraspData.ipynb\" target=\"_parent\"><img src=\"https://colab.research.google.com/assets/colab-badge.svg\" alt=\"Open In Colab\"/></a>"
      ]
    },
    {
      "cell_type": "code",
      "execution_count": 2,
      "metadata": {
        "id": "Q4sTCnIsSFlz"
      },
      "outputs": [],
      "source": [
        "import os\n",
        "import pandas as pd\n",
        "import numpy as np\n",
        "from sklearn.preprocessing import LabelEncoder\n",
        "from sklearn.model_selection import train_test_split\n",
        "from tensorflow.keras.utils import to_categorical\n",
        "from tensorflow.keras.preprocessing.sequence import pad_sequences\n",
        "from tensorflow.keras.models import Sequential\n",
        "from tensorflow.keras.layers import LSTM, Dense, Dropout\n",
        "import matplotlib.pyplot as plt\n",
        "from tensorflow.keras.layers import Masking\n"
      ]
    },
    {
      "cell_type": "code",
      "source": [
        "REACH_DIR = \"/content/drive/MyDrive/reach\""
      ],
      "metadata": {
        "id": "qArC8pB-VSbh"
      },
      "execution_count": 3,
      "outputs": []
    },
    {
      "cell_type": "code",
      "source": [
        "with open(os.path.join(REACH_DIR, \"header.txt\")) as f:\n",
        "    header = f.read().strip().split(\",\")"
      ],
      "metadata": {
        "id": "jtPSEwpvXYPk"
      },
      "execution_count": 4,
      "outputs": []
    },
    {
      "cell_type": "code",
      "source": [
        "\n",
        "# import TensorFlow\n",
        "import tensorflow as tf\n",
        "\n",
        "#Check the version of TensorFlow you are using\n",
        "print(tf.__version__)\n",
        "print(tf.config.list_physical_devices('GPU'))"
      ],
      "metadata": {
        "colab": {
          "base_uri": "https://localhost:8080/"
        },
        "id": "x-JyCLw5W2yc",
        "outputId": "81e24f0a-1012-424a-bcf5-d9f2f12ec74e"
      },
      "execution_count": 5,
      "outputs": [
        {
          "output_type": "stream",
          "name": "stdout",
          "text": [
            "2.18.0\n",
            "[PhysicalDevice(name='/physical_device:GPU:0', device_type='GPU')]\n"
          ]
        }
      ]
    },
    {
      "cell_type": "code",
      "source": [
        "def extract_sequence_with_cutoff(filepath, cutoff_ms, use_palm=True, n_fingers=3):\n",
        "    df = pd.read_csv(filepath, names=header)\n",
        "\n",
        "    if len(df) < 2 or df[\"FrameTime\"].iloc[-1] < cutoff_ms:\n",
        "        return None, None\n",
        "\n",
        "    cutoff_time = df[\"FrameTime\"].iloc[-1] - cutoff_ms\n",
        "    input_df = df[df[\"FrameTime\"] <= cutoff_time]\n",
        "\n",
        "    if len(input_df) < 2:\n",
        "        return None, None\n",
        "\n",
        "    sequence = []\n",
        "    for _, row in input_df.iterrows():\n",
        "        cx, cy, cz = row[\"M12x\"], row[\"M12y\"], row[\"M12z\"]\n",
        "        frame_features = []\n",
        "        for i in range(1, n_fingers + 1):\n",
        "            x = row[f\"M{i}x\"] - cx\n",
        "            y = row[f\"M{i}y\"] - cy\n",
        "            z = row[f\"M{i}z\"] - cz\n",
        "            frame_features.extend([x, y, z])\n",
        "        if use_palm:\n",
        "            frame_features.extend([cx, cy, cz])\n",
        "        sequence.append(frame_features)\n",
        "\n",
        "    # Target = final pose\n",
        "    last = df.iloc[-1]\n",
        "    cx, cy, cz = last[\"M12x\"], last[\"M12y\"], last[\"M12z\"]\n",
        "    target = []\n",
        "    for i in range(1, n_fingers + 1):\n",
        "        x = last[f\"M{i}x\"] - cx\n",
        "        y = last[f\"M{i}y\"] - cy\n",
        "        z = last[f\"M{i}z\"] - cz\n",
        "        target.extend([x, y, z])\n",
        "    if use_palm:\n",
        "        target.extend([cx, cy, cz])\n",
        "    return sequence, target"
      ],
      "metadata": {
        "id": "cq9rgDonW7vZ"
      },
      "execution_count": 6,
      "outputs": []
    },
    {
      "cell_type": "code",
      "source": [
        "def get_frame_times(filepath, cutoff_ms):\n",
        "    \"\"\"\n",
        "    Returns FrameTime values (in ms) for a given trial, up to cutoff_ms.\n",
        "    Useful for timing each frame in an animation.\n",
        "    \"\"\"\n",
        "    df = pd.read_csv(filepath, names=header)\n",
        "\n",
        "    if len(df) < 2 or df[\"FrameTime\"].iloc[-1] < cutoff_ms:\n",
        "        return None\n",
        "\n",
        "    cutoff_time = df[\"FrameTime\"].iloc[-1] - cutoff_ms\n",
        "    input_df = df[df[\"FrameTime\"] <= cutoff_time]\n",
        "\n",
        "    if len(input_df) < 2:\n",
        "        return None\n",
        "\n",
        "    return input_df[\"FrameTime\"].tolist()\n"
      ],
      "metadata": {
        "id": "GtfxELdziWjE"
      },
      "execution_count": 7,
      "outputs": []
    },
    {
      "cell_type": "code",
      "source": [
        "from sklearn.preprocessing import StandardScaler\n",
        "import numpy as np\n",
        "\n",
        "def prepare_data(REACH_DIR, cutoff_ms, use_palm=True, n_fingers=3):\n",
        "    X, y, meta = [], [], []\n",
        "\n",
        "    for fname in os.listdir(REACH_DIR):\n",
        "        if not fname.endswith(\".txt\") or fname == \"header.txt\":\n",
        "            continue\n",
        "        seq, target = extract_sequence_with_cutoff(\n",
        "            os.path.join(REACH_DIR, fname), cutoff_ms, use_palm, n_fingers)\n",
        "        if seq is not None:\n",
        "            X.append(np.array(seq, dtype='float32'))\n",
        "            y.append(target)\n",
        "            meta.append(fname)\n",
        "\n",
        "    if len(X) < 10:\n",
        "        raise ValueError(\"Too few valid sequences.\")\n",
        "\n",
        "    y = np.array(y, dtype='float32')\n",
        "    X_flat = np.concatenate(X)\n",
        "    X_scaler = StandardScaler().fit(X_flat)\n",
        "    y_scaler = StandardScaler().fit(y)\n",
        "\n",
        "    X_scaled = [X_scaler.transform(seq) for seq in X]\n",
        "    y_scaled = y_scaler.transform(y)\n",
        "\n",
        "    X_padded = pad_sequences(X_scaled, padding='pre', dtype='float32')\n",
        "\n",
        "    return X_padded, y_scaled, X_scaler, y_scaler, meta, X_scaled"
      ],
      "metadata": {
        "id": "4TNqCz78XB7f"
      },
      "execution_count": 8,
      "outputs": []
    },
    {
      "cell_type": "code",
      "source": [
        "def build_model(input_shape, output_dim, use_masking=True):\n",
        "    model = Sequential()\n",
        "    if use_masking:\n",
        "        model.add(Masking(mask_value=0.0, input_shape=input_shape))\n",
        "    else:\n",
        "        model.add(tf.keras.layers.Input(shape=input_shape)) # Change is here.\n",
        "\n",
        "    model.add(LSTM(64, recurrent_activation='sigmoid', recurrent_dropout=0, unroll=False, use_bias=True)) #disable cuDNN by setting use_bias=True or recurrent_activation or recurrent_dropout or unroll\n",
        "    model.add(Dropout(0.3))\n",
        "    model.add(Dense(32, activation='relu'))\n",
        "    model.add(Dense(output_dim))\n",
        "\n",
        "    model.compile(optimizer='adam', loss='mse', metrics=['mae'])\n",
        "    return model\n"
      ],
      "metadata": {
        "id": "Q7rFlq08XEcp"
      },
      "execution_count": 9,
      "outputs": []
    },
    {
      "cell_type": "code",
      "source": [
        "import tensorflow as tf\n",
        "\n",
        "def run_experiment(REACH_DIR, cutoff_ms, use_palm, n_fingers, use_masking, epochs, batch_size, seed):\n",
        "    np.random.seed(seed)\n",
        "    tf.random.set_seed(seed)\n",
        "\n",
        "    X, y, X_scaler, y_scaler, meta, X_scaled = prepare_data(REACH_DIR, cutoff_ms, use_palm, n_fingers)\n",
        "\n",
        "    X_train, X_test, y_train, y_test, meta_train, meta_test = train_test_split(\n",
        "        X, y, meta, test_size=0.2, random_state=seed)\n",
        "\n",
        "    model = build_model(X_train.shape[1:], y.shape[1], use_masking)\n",
        "\n",
        "    history = model.fit(\n",
        "        X_train, y_train,\n",
        "        validation_split=0.2,\n",
        "        epochs=epochs,\n",
        "        batch_size=batch_size,\n",
        "        verbose=0\n",
        "    )\n",
        "\n",
        "    # Evaluate on test set\n",
        "    y_pred = model.predict(X_test)\n",
        "    y_pred_rescaled = y_scaler.inverse_transform(y_pred)\n",
        "    y_test_rescaled = y_scaler.inverse_transform(y_test)\n",
        "    mae = np.mean(np.abs(y_pred_rescaled - y_test_rescaled))\n",
        "\n",
        "    print(f\"Cutoff {cutoff_ms} ms — MAE: {mae:.4f} cm\")\n",
        "\n",
        "    # Return everything needed for post-analysis\n",
        "    return model, history, mae, X_test, y_test, y_test_rescaled, y_scaler, meta_test"
      ],
      "metadata": {
        "id": "c1SBbCxVXHZS"
      },
      "execution_count": 14,
      "outputs": []
    },
    {
      "cell_type": "code",
      "source": [
        "def plot_training_history(history):\n",
        "    plt.plot(history.history['loss'], label='Train Loss')\n",
        "    plt.plot(history.history['val_loss'], label='Val Loss')\n",
        "    plt.xlabel('Epoch')\n",
        "    plt.ylabel('Loss')\n",
        "    plt.title('Training vs Validation Loss')\n",
        "    plt.legend()\n",
        "    plt.grid(True)\n",
        "    plt.show()"
      ],
      "metadata": {
        "id": "PFVf6v9-XJuZ"
      },
      "execution_count": 11,
      "outputs": []
    },
    {
      "cell_type": "markdown",
      "source": [
        "### Experimenting with 0ms cutoff:"
      ],
      "metadata": {
        "id": "cQpBAixDXLo7"
      }
    },
    {
      "cell_type": "code",
      "source": [
        "model, history, mae, X_test, y_test, y_test_rescaled, y_scaler, meta_test= run_experiment(\n",
        "    REACH_DIR, cutoff_ms=0, use_palm=True, n_fingers=3, use_masking=False, epochs=3, batch_size=16, seed=42)\n",
        "\n",
        "plot_training_history(history)"
      ],
      "metadata": {
        "colab": {
          "base_uri": "https://localhost:8080/",
          "height": 507
        },
        "id": "jsDTVpfcXRy7",
        "outputId": "834940cc-912e-4bfe-d97e-a534670814ed"
      },
      "execution_count": 16,
      "outputs": [
        {
          "output_type": "stream",
          "name": "stdout",
          "text": [
            "\u001b[1m5/5\u001b[0m \u001b[32m━━━━━━━━━━━━━━━━━━━━\u001b[0m\u001b[37m\u001b[0m \u001b[1m0s\u001b[0m 40ms/step\n",
            "Cutoff 0 ms — MAE: 0.5352 cm\n"
          ]
        },
        {
          "output_type": "display_data",
          "data": {
            "text/plain": [
              "<Figure size 640x480 with 1 Axes>"
            ],
            "image/png": "[encoded data removed]"
          },
          "metadata": {}
        }
      ]
    },
    {
      "cell_type": "code",
      "source": [
        "from tensorflow.keras.preprocessing.sequence import pad_sequences\n",
        "import numpy as np\n",
        "\n",
        "def get_downsampled_predictions(model, sequence, total_timesteps, frame_times, max_frames=30):\n",
        "    \"\"\"\n",
        "    Generates predictions for a sequence at downsampled time points.\n",
        "\n",
        "    Args:\n",
        "        model: The trained Keras model.\n",
        "        sequence: The input sequence (already scaled and padded).\n",
        "        total_timesteps: Total number of timesteps in the padded sequence.\n",
        "        frame_times: List of actual frame times (in ms) for the original sequence.\n",
        "        max_frames: The desired number of frames for downsampling.\n",
        "\n",
        "    Returns:\n",
        "        predictions: A list of predictions at the downsampled time points.\n",
        "        times: A list of corresponding frame times (in ms).\n",
        "    \"\"\"\n",
        "    # Pick 30 evenly spaced time steps from the original sequence length\n",
        "    # instead of padded sequence length to align indices with frame_times\n",
        "    indices = np.linspace(1, len(frame_times) - 1, max_frames)\n",
        "    indices = np.round(indices).astype(int)\n",
        "    indices = np.unique(np.clip(indices, 1, len(frame_times) - 1))\n",
        "\n",
        "\n",
        "    predictions = []\n",
        "    times = []\n",
        "    print(\"indices:\" , indices)\n",
        "    for t in indices:\n",
        "        partial = sequence[:t]\n",
        "        padded = pad_sequences([partial], maxlen=total_timesteps, padding='pre')\n",
        "        pred_scaled = model.predict(padded, verbose=0)[0]\n",
        "        predictions.append(pred_scaled)\n",
        "        times.append(frame_times[t - 1])  # Actual ms of input seen\n",
        "\n",
        "    return predictions, times"
      ],
      "metadata": {
        "id": "_TYypmVYYfMQ"
      },
      "execution_count": 17,
      "outputs": []
    },
    {
      "cell_type": "code",
      "source": [
        "import matplotlib.pyplot as plt\n",
        "from mpl_toolkits.mplot3d import Axes3D\n",
        "import imageio\n",
        "import numpy as np\n",
        "import os\n",
        "\n",
        "def save_hand_prediction_gif_matplotlib(predictions, ground_truth, scaler, times, filename=\"hand_prediction.gif\"):\n",
        "    folder = \"frames_temp\"\n",
        "    os.makedirs(folder, exist_ok=True)\n",
        "\n",
        "    finger_labels = [\"Thumb\", \"Index\", \"Middle\"]\n",
        "    gt_palm = ground_truth[9:12]\n",
        "    gt_fingers = np.array(ground_truth[:9]).reshape(3, 3) + gt_palm\n",
        "\n",
        "    frame_paths = []\n",
        "\n",
        "    for i, pred_scaled in enumerate(predictions):\n",
        "        pred = scaler.inverse_transform([pred_scaled])[0]\n",
        "        pred_palm = pred[9:12]\n",
        "        pred_fingers = np.array(pred[:9]).reshape(3, 3) + pred_palm\n",
        "\n",
        "        fig = plt.figure(figsize=(5, 5))\n",
        "        ax = fig.add_subplot(111, projection='3d')\n",
        "\n",
        "        # Ground truth lines\n",
        "        for j in range(3):\n",
        "            ax.plot(\n",
        "                [gt_palm[0], gt_fingers[j, 0]],\n",
        "                [gt_palm[1], gt_fingers[j, 1]],\n",
        "                [gt_palm[2], gt_fingers[j, 2]],\n",
        "                'g-'\n",
        "            )\n",
        "            ax.text(gt_fingers[j, 0], gt_fingers[j, 1], gt_fingers[j, 2], finger_labels[j], color='green')\n",
        "\n",
        "        ax.scatter(gt_palm[0], gt_palm[1], gt_palm[2], c='green')\n",
        "        ax.text(gt_palm[0], gt_palm[1], gt_palm[2], 'Palm', color='green')\n",
        "\n",
        "        # Prediction lines\n",
        "        for j in range(3):\n",
        "            ax.plot(\n",
        "                [pred_palm[0], pred_fingers[j, 0]],\n",
        "                [pred_palm[1], pred_fingers[j, 1]],\n",
        "                [pred_palm[2], pred_fingers[j, 2]],\n",
        "                'r--'\n",
        "            )\n",
        "            ax.text(pred_fingers[j, 0], pred_fingers[j, 1], pred_fingers[j, 2], finger_labels[j], color='red')\n",
        "\n",
        "        ax.scatter(pred_palm[0], pred_palm[1], pred_palm[2], c='red')\n",
        "        ax.text(pred_palm[0], pred_palm[1], pred_palm[2], 'Palm', color='red')\n",
        "\n",
        "        ax.set_title(f\"Step {i+1} | Input time: {times[i]:.1f} ms\")\n",
        "        ax.set_xlabel(\"X\")\n",
        "        ax.set_ylabel(\"Y\")\n",
        "        ax.set_zlabel(\"Z\")\n",
        "        ax.view_init(elev=20, azim=-70)  # Adjust for better perspective\n",
        "\n",
        "        # Equal aspect ratio\n",
        "        all_points = np.vstack([gt_fingers, gt_palm, pred_fingers, pred_palm])\n",
        "        xlim = (np.min(all_points[:, 0]) - 2, np.max(all_points[:, 0]) + 2)\n",
        "        ylim = (np.min(all_points[:, 1]) - 2, np.max(all_points[:, 1]) + 2)\n",
        "        zlim = (np.min(all_points[:, 2]) - 2, np.max(all_points[:, 2]) + 2)\n",
        "        ax.set_xlim(xlim)\n",
        "        ax.set_ylim(ylim)\n",
        "        ax.set_zlim(zlim)\n",
        "\n",
        "        frame_path = os.path.join(folder, f\"frame_{i:03d}.png\")\n",
        "        plt.tight_layout()\n",
        "        plt.savefig(frame_path)\n",
        "        plt.close()\n",
        "        frame_paths.append(frame_path)\n",
        "\n",
        "    # Assemble into GIF\n",
        "    images = [imageio.v2.imread(fp) for fp in frame_paths]\n",
        "    imageio.mimsave(filename, images, duration=500.0)\n",
        "    print(f\" GIF saved to: {filename} ({len(images)} frames)\")\n",
        "\n",
        "    # Clean up\n",
        "    for fp in frame_paths:\n",
        "        os.remove(fp)\n",
        "    os.rmdir(folder)\n"
      ],
      "metadata": {
        "id": "jYj9-juoYh_w"
      },
      "execution_count": 81,
      "outputs": []
    },
    {
      "cell_type": "code",
      "source": [
        "i = 0  # Test sequence index\n",
        "print(meta_test[i])\n",
        "sequence = X_test[i]         # Already scaled and padded\n",
        "timesteps = X_test.shape[1]\n",
        "ground_truth = y_test_rescaled[i]\n",
        "frame_times = get_frame_times(os.path.join(REACH_DIR, meta_test[i]), cutoff_ms=0)\n",
        "print(timesteps)"
      ],
      "metadata": {
        "colab": {
          "base_uri": "https://localhost:8080/"
        },
        "id": "DIWBadV3Ylt4",
        "outputId": "d6811b8c-26c2-4d63-9dfc-187544473b01"
      },
      "execution_count": 18,
      "outputs": [
        {
          "output_type": "stream",
          "name": "stdout",
          "text": [
            "user16_R2G_object_Box_Medium_trial3.txt\n",
            "1129\n"
          ]
        }
      ]
    },
    {
      "cell_type": "code",
      "source": [
        "file_path = os.path.join(REACH_DIR, meta_test[i])\n",
        "print(meta_test[i])\n",
        "frame_times = get_frame_times(file_path, cutoff_ms=0)\n",
        "print(frame_times)\n",
        "print(len(frame_times))"
      ],
      "metadata": {
        "colab": {
          "base_uri": "https://localhost:8080/"
        },
        "id": "f0Mc5xBLi7Qz",
        "outputId": "b2069ae0-eb58-4f9f-b95f-2871a8d79a22"
      },
      "execution_count": 19,
      "outputs": [
        {
          "output_type": "stream",
          "name": "stdout",
          "text": [
            "user16_R2G_object_Box_Medium_trial3.txt\n",
            "[0.0, 1.0639, 2.1081, 3.1694, 4.1466, 5.1741, 6.1851, 7.2631, 8.3103, 9.3937, 10.4019, 11.4397, 12.6134, 13.504, 14.4993, 15.6106, 16.703, 17.8251, 18.8044, 19.8163, 20.8667, 21.9387, 22.9637, 24.0253, 25.0655, 26.0563, 27.1606, 28.1064, 29.2136, 30.1551, 31.2443, 32.3037, 33.2764, 34.3854, 35.3918, 36.4097, 37.4119, 38.5473, 39.6103, 40.548, 41.7356, 42.7123, 43.782, 44.7834, 45.9089, 46.891, 47.9069, 48.9183, 50.03, 51.1037, 52.1515, 53.1505, 54.1848, 55.1542, 56.2124, 57.2558, 58.2797, 59.403, 60.4216, 61.4232, 62.4454, 63.5405, 64.5361, 65.5869, 66.7431, 67.7086, 68.7664, 69.8189, 70.9023, 71.8623, 72.897, 74.0197, 75.0889, 76.0266, 77.1696, 78.177, 79.1126, 80.1887, 81.2499, 82.2504, 83.2778, 84.3424, 85.4048, 86.4293, 87.4381, 88.5621, 89.5911, 90.5819, 91.6241, 92.7487, 93.7037, 94.7773, 95.8776, 96.9131, 98.0112, 99.0299, 100.0173, 101.0734, 102.1073, 103.1429, 104.165, 105.178, 106.2058, 107.2703, 108.283, 109.3349, 110.4906, 111.471, 112.5051, 113.5402, 114.5079, 115.6109, 116.6561, 117.7065, 118.8238, 119.8161, 120.8805, 121.9389, 122.8772, 123.9871, 125.1064, 126.0531, 127.167, 128.1852, 129.1881, 130.2543, 131.2278, 132.2524, 133.3168, 134.3461, 135.4385, 136.4969, 137.4336, 138.5406, 139.5775, 140.566, 141.6499, 142.7349, 143.7385, 144.7946, 145.8844, 146.905, 147.9028, 149.0172, 150.0862, 151.0584, 152.0896, 153.1362, 154.1707, 155.1614, 156.2255, 157.326, 158.3367, 159.3748, 160.4037, 161.4344, 162.4779, 163.5267, 164.561, 165.7214, 166.6256, 167.7273, 168.7624, 169.8154, 170.8382, 171.953, 172.9542, 173.9918, 175.0152, 176.1154, 177.0651, 178.1007, 179.1891, 180.1879, 181.251, 182.3225, 183.3305, 184.3793, 185.4044, 186.4447, 187.5304, 188.4749, 189.6272, 190.5781, 191.7517, 192.7486, 193.7982, 194.8119, 195.8773, 196.9454, 197.866, 198.9386, 199.9978, 201.028, 202.1676, 203.1668, 204.1003, 205.1883, 206.2605, 207.2725, 208.3124, 209.3537, 210.3897, 211.4436, 212.4759, 213.5029, 214.5348, 215.5656, 216.726, 217.7092, 218.7071, 219.8032, 220.8559, 221.9772, 222.9326, 224.0253, 225.0866, 226.0876, 227.0968, 228.1289, 229.189, 230.1835, 231.2358, 232.2575, 233.3586, 234.3392, 235.4318, 236.453, 237.4849, 238.511, 239.5962, 240.6435, 241.6103, 242.7866, 243.7473, 245.8259, 246.8995, 247.9025, 248.9639, 250.0024, 251.017, 252.1698, 253.1896, 254.1291, 255.2617, 256.2155, 257.2888, 258.2942, 259.5506, 260.4008, 261.4751, 262.4768, 263.5077, 264.5326, 265.588, 266.7101, 267.6147, 268.7325, 269.8914, 270.8999, 271.8553, 272.9099, 274.0059, 275.0115, 276.0621, 277.0418, 278.1513, 279.1501, 280.1975, 281.2002, 282.2538, 283.313, 284.3626, 285.3402, 286.4816, 287.4423, 288.5142, 289.5457, 290.6171, 291.7472, 292.7253, 293.8707, 294.7936, 295.8736, 296.9211, 297.8783, 298.9916, 300.0095, 301.11, 302.1872, 303.1242, 304.1346, 305.1985, 306.2133, 307.2974, 308.341, 309.4407, 310.379, 311.4434, 312.4436, 313.5812, 314.5222, 315.588, 316.6493, 317.7012, 318.8129, 319.775, 320.8346, 321.8745, 322.8545, 324.0116, 325.0872, 326.0638, 327.1205, 328.1405, 329.2264, 330.2599, 331.3103, 332.3571, 333.2748, 334.4133, 335.4009, 336.3855, 337.4031, 338.5562, 339.5706, 340.6133, 341.6502, 342.7269, 343.738, 344.7712, 345.8668, 346.8968, 347.9036, 349.0989, 350.0851, 351.0541, 352.0844, 353.0852, 354.1903, 355.1871, 356.2688, 357.2737, 358.3066, 359.4248, 360.4071, 361.5398, 362.549, 363.5104, 364.7195, 365.6168, 366.6172, 367.7382, 368.7777, 369.8708, 370.8352, 371.8713, 373.0127, 373.9936, 375.0854, 376.0624, 377.0646, 378.1876, 379.1127, 380.1965, 381.2396, 382.3735, 383.3042, 384.2939, 385.3988, 386.4919, 387.397, 388.5555, 389.6272, 390.7615, 391.6621, 392.8585, 393.7699, 394.8859, 395.8908, 396.9813, 397.8746, 399.0053, 400.0452, 401.0445, 402.0833, 403.0842, 404.1706, 405.1368, 406.2592, 407.2542, 408.2847, 409.3413, 410.4277, 411.4454, 412.4829, 413.6053, 414.524, 415.5455, 416.6533, 417.717, 418.7576, 419.8139, 420.9136, 421.9411, 422.8713, 423.9663, 424.9702, 426.0331, 427.0619, 428.1282, 429.149, 430.287, 431.241, 432.2568, 433.332, 434.3868, 435.4019, 436.4509, 437.5267, 438.5184, 439.5541, 440.6478, 441.7019, 442.7303, 443.8001, 444.8613, 445.8752, 446.8885, 447.9084, 448.9332, 450.0326, 451.034, 452.1515, 453.1541, 454.1511, 455.1517, 456.2269, 457.2974, 458.2926, 459.3345, 460.4154, 461.4922, 462.5509, 463.4747, 464.5717, 465.6091, 466.6444, 467.722, 468.7784, 469.7984, 470.8129, 471.8955, 472.8969, 473.949, 475.0707, 476.0614, 477.138, 478.1644, 479.1876, 480.2332, 481.3192, 482.3089, 483.3085, 484.3863, 485.3617, 486.4266, 487.5206, 488.5077, 489.5412, 490.6398, 491.6602, 492.7311, 493.8137, 495.9023, 496.9447, 497.9421, 499.014, 500.0428, 501.0777, 502.1423, 503.1137, 504.1605, 505.2583, 506.2919, 507.3522, 508.4596, 509.3927, 510.4359, 511.4369, 512.4354, 513.6099, 514.5296, 515.6544, 516.7429, 517.5924, 518.7746, 519.8341, 520.8931, 522.0084, 523.0096, 523.9766, 525.0909, 526.044, 527.1528, 528.1194, 529.1947, 530.2919, 531.2281, 532.3434, 533.3029, 534.3179, 535.342, 536.4361, 537.3957, 538.5371, 539.6074, 540.585, 541.7422, 542.746, 543.8018, 544.8027, 545.8804, 546.9152, 547.9689, 549.0166, 549.9906, 551.0244, 552.1057, 553.1209, 554.1494, 555.1868, 556.2728, 557.3041, 558.308, 559.3881, 560.3864, 561.4411, 562.5896, 563.4676, 564.5547, 565.621, 566.7412, 567.7, 568.8412, 569.8395, 570.9071, 571.9666, 573.0095, 573.9955, 575.0911, 576.0597, 577.1684, 578.1592, 579.1869, 580.2468, 581.2091, 582.2765, 583.3017, 584.291, 585.3381, 586.4447, 587.5117, 588.5816, 589.5247, 590.6516, 591.7401, 592.7268, 593.7498, 594.8144, 595.9158, 596.9352, 598.005, 598.9384, 600.0483, 601.1769, 602.1973, 603.2127, 604.204, 605.1361, 606.2464, 607.3006, 608.2895, 609.4252, 610.3724, 611.4857, 612.4325, 613.576, 614.5311, 615.617, 616.7357, 617.7427, 618.8027, 619.8722, 620.8535, 621.8789, 622.8907, 624.0074, 625.004, 626.0658, 627.0379, 628.1528, 629.1752, 630.2322, 631.275, 632.2742, 633.3114, 634.381, 635.4575, 636.3715, 637.4195, 638.521, 639.5619, 640.6661, 641.6295, 642.7092, 643.7948, 644.8176, 645.8916, 646.896, 647.936, 648.988, 649.9866, 651.1133, 652.1602, 653.1322, 654.1529, 655.1683, 656.208, 657.2894, 658.31, 659.5686, 660.3671, 661.4637, 662.4216, 663.4747, 664.557, 665.6278, 666.7118, 667.7083, 668.7977, 669.8625, 670.8212, 671.8631, 672.9884, 673.9941, 675.1045, 676.043, 677.1358, 678.1267, 679.1802, 680.2254, 681.269, 682.2552, 683.3136, 684.3346, 685.4024, 686.4373, 687.5483, 688.5111, 689.4953, 690.6246, 691.7187, 692.7185, 693.7912, 694.8126, 695.8617, 696.8847, 697.9515, 699.0565, 700.1428, 701.0298, 702.1327, 703.1473, 704.0918, 705.1776, 706.2617, 707.3075, 708.3026, 709.3447, 710.4274, 711.4947, 712.5079, 713.5619, 714.5642, 715.5587, 716.6008, 717.642, 718.7887, 719.8388, 720.8338, 721.8741, 722.9984, 723.9854, 725.0789, 726.0215, 727.1408, 728.1601, 729.2088, 730.2366, 731.1985, 732.275, 733.3163, 734.3813, 735.4372, 736.4353, 737.5205, 738.4837, 739.5598, 740.6448, 741.744, 742.7447, 743.8119, 745.8538, 746.9422, 747.9406, 748.9338, 750.015, 751.0611, 752.169, 753.1592, 754.1228, 755.1844, 756.2678, 757.309, 758.3415, 759.392, 760.4394, 761.4359, 762.4774, 763.6104, 764.6117, 765.6121, 766.7279, 767.7488, 768.7248, 769.8124, 770.84, 771.8971, 772.9462, 773.9293, 775.0356, 776.0589, 777.046, 778.2437, 779.1413, 780.1548, 781.2845, 782.2534, 783.3021, 784.3722, 785.3999, 786.4427, 787.5204, 788.538, 789.5723, 790.5516, 791.649, 792.7869, 793.7753, 794.8692, 795.7965, 796.9682, 797.9008, 799.0345, 800.0708, 801.078]\n",
            "767\n"
          ]
        }
      ]
    },
    {
      "cell_type": "code",
      "source": [
        "predictions, times = get_downsampled_predictions(model, sequence, timesteps, frame_times, max_frames=30)"
      ],
      "metadata": {
        "colab": {
          "base_uri": "https://localhost:8080/"
        },
        "id": "j7bpMMoGYn_b",
        "outputId": "8f47c538-bce8-4cce-cf0a-604a477455b5"
      },
      "execution_count": 20,
      "outputs": [
        {
          "output_type": "stream",
          "name": "stderr",
          "text": [
            "WARNING:tensorflow:5 out of the last 11 calls to <function TensorFlowTrainer.make_predict_function.<locals>.one_step_on_data_distributed at 0x7b6b21b2f380> triggered tf.function retracing. Tracing is expensive and the excessive number of tracings could be due to (1) creating @tf.function repeatedly in a loop, (2) passing tensors with different shapes, (3) passing Python objects instead of tensors. For (1), please define your @tf.function outside of the loop. For (2), @tf.function has reduce_retracing=True option that can avoid unnecessary retracing. For (3), please refer to https://www.tensorflow.org/guide/function#controlling_retracing and https://www.tensorflow.org/api_docs/python/tf/function for  more details.\n"
          ]
        },
        {
          "output_type": "stream",
          "name": "stdout",
          "text": [
            "indices: [  1  27  54  80 107 133 159 186 212 238 265 291 318 344 370 397 423 449\n",
            " 476 502 529 555 581 608 634 660 687 713 740 766]\n"
          ]
        }
      ]
    },
    {
      "cell_type": "code",
      "source": [
        "print(predictions)"
      ],
      "metadata": {
        "colab": {
          "base_uri": "https://localhost:8080/"
        },
        "id": "jUuQZMONupdA",
        "outputId": "6e88722e-69c6-46d3-adb0-4aa15408f545"
      },
      "execution_count": 21,
      "outputs": [
        {
          "output_type": "stream",
          "name": "stdout",
          "text": [
            "[array([-0.13494645,  0.05569229,  0.14292838,  0.11908372,  0.13231169,\n",
            "        0.04644968,  0.11438149, -0.04607531,  0.09417614,  0.12039446,\n",
            "       -0.12465801, -0.02320176], dtype=float32), array([-0.13494645,  0.05569229,  0.14292838,  0.11908372,  0.13231169,\n",
            "        0.04644968,  0.11438149, -0.04607531,  0.09417614,  0.12039446,\n",
            "       -0.12465801, -0.02320176], dtype=float32), array([-0.13494645,  0.05569229,  0.14292838,  0.11908372,  0.13231169,\n",
            "        0.04644968,  0.11438149, -0.04607531,  0.09417614,  0.12039446,\n",
            "       -0.12465801, -0.02320176], dtype=float32), array([-0.13494645,  0.05569229,  0.14292838,  0.11908372,  0.13231169,\n",
            "        0.04644968,  0.11438149, -0.04607531,  0.09417614,  0.12039446,\n",
            "       -0.12465801, -0.02320176], dtype=float32), array([-0.13494645,  0.05569229,  0.14292838,  0.11908372,  0.13231169,\n",
            "        0.04644968,  0.11438149, -0.04607531,  0.09417614,  0.12039446,\n",
            "       -0.12465801, -0.02320176], dtype=float32), array([-0.13494645,  0.05569229,  0.14292838,  0.11908372,  0.13231169,\n",
            "        0.04644968,  0.11438149, -0.04607531,  0.09417614,  0.12039446,\n",
            "       -0.12465801, -0.02320176], dtype=float32), array([-0.13494645,  0.05569229,  0.14292838,  0.11908372,  0.13231169,\n",
            "        0.04644968,  0.11438149, -0.04607531,  0.09417614,  0.12039446,\n",
            "       -0.12465801, -0.02320176], dtype=float32), array([-0.13494645,  0.05569229,  0.14292838,  0.11908372,  0.13231169,\n",
            "        0.04644968,  0.11438149, -0.04607531,  0.09417614,  0.12039446,\n",
            "       -0.12465801, -0.02320176], dtype=float32), array([-0.13494645,  0.05569229,  0.14292838,  0.11908372,  0.13231169,\n",
            "        0.04644968,  0.11438149, -0.04607531,  0.09417614,  0.12039446,\n",
            "       -0.12465801, -0.02320176], dtype=float32), array([-0.13494645,  0.05569229,  0.14292838,  0.11908372,  0.13231169,\n",
            "        0.04644968,  0.11438149, -0.04607531,  0.09417614,  0.12039446,\n",
            "       -0.12465801, -0.02320176], dtype=float32), array([-0.13494645,  0.05569229,  0.14292838,  0.11908372,  0.13231169,\n",
            "        0.04644968,  0.11438149, -0.04607531,  0.09417614,  0.12039446,\n",
            "       -0.12465801, -0.02320176], dtype=float32), array([-0.13494645,  0.05569229,  0.14292838,  0.11908372,  0.13231169,\n",
            "        0.04644968,  0.11438149, -0.04607531,  0.09417614,  0.12039446,\n",
            "       -0.12465801, -0.02320176], dtype=float32), array([-0.13494645,  0.05569229,  0.14292838,  0.11908372,  0.13231169,\n",
            "        0.04644968,  0.11438149, -0.04607531,  0.09417614,  0.12039446,\n",
            "       -0.12465801, -0.02320176], dtype=float32), array([-0.13494645,  0.05569229,  0.14292838,  0.11908372,  0.13231169,\n",
            "        0.04644968,  0.11438149, -0.04607531,  0.09417614,  0.12039446,\n",
            "       -0.12465801, -0.02320176], dtype=float32), array([ 0.624744  ,  0.25226295, -0.29743934,  0.79354423, -0.24584231,\n",
            "       -0.32390034,  0.6962905 ,  0.01054784, -0.46920067, -0.219716  ,\n",
            "        0.06750309, -0.13530523], dtype=float32), array([ 0.62519395,  0.21614467, -0.33055747,  0.7860896 , -0.28571072,\n",
            "       -0.3798908 ,  0.6685601 ,  0.04483175, -0.5023379 , -0.26096138,\n",
            "        0.06410505, -0.03675579], dtype=float32), array([ 0.5937902 ,  0.20603994, -0.29687542,  0.7836992 , -0.2648048 ,\n",
            "       -0.38290936,  0.66035736,  0.02480234, -0.50767267, -0.24609852,\n",
            "        0.04791328, -0.06720367], dtype=float32), array([ 0.4871099 ,  0.17070195, -0.25761914,  0.69870454, -0.22068726,\n",
            "       -0.34386754,  0.630842  ,  0.04607075, -0.4656235 , -0.2512761 ,\n",
            "        0.09122475, -0.09212798], dtype=float32), array([ 0.3126043 ,  0.16785346, -0.13444369,  0.26236668, -0.20539942,\n",
            "       -0.27485356,  0.12878785, -0.04219766, -0.19043773, -0.14941046,\n",
            "       -0.07381212, -0.03125389], dtype=float32), array([ 0.23772727,  0.00391077, -0.13723232,  0.25125992, -0.3098931 ,\n",
            "       -0.21143271,  0.31197634,  0.10070844, -0.1298413 , -0.1202709 ,\n",
            "        0.09264629,  0.27109018], dtype=float32), array([ 0.02470612,  0.02253104, -0.01575237,  0.14667591, -0.11413723,\n",
            "       -0.12287437,  0.13905007,  0.00885157, -0.02861595, -0.02972057,\n",
            "        0.03115085,  0.06567974], dtype=float32), array([-0.1270114 ,  0.05299148,  0.1268804 ,  0.10545657,  0.10039118,\n",
            "        0.00840848,  0.11776079, -0.06610413,  0.08225971,  0.11327671,\n",
            "       -0.1119523 , -0.02365706], dtype=float32), array([-0.13572687,  0.05623034,  0.14282048,  0.11890058,  0.13268232,\n",
            "        0.04622947,  0.11384252, -0.04684154,  0.09404846,  0.12106479,\n",
            "       -0.12559538, -0.02359135], dtype=float32), array([-0.1349437 ,  0.05569403,  0.14292549,  0.11908275,  0.13231784,\n",
            "        0.04645329,  0.11438552, -0.0460667 ,  0.09417991,  0.12039626,\n",
            "       -0.12466145, -0.02320164], dtype=float32), array([-0.13494626,  0.05569235,  0.14292836,  0.11908373,  0.13231164,\n",
            "        0.04644978,  0.11438148, -0.04607516,  0.0941762 ,  0.12039436,\n",
            "       -0.12465793, -0.02320184], dtype=float32), array([-0.13494644,  0.05569231,  0.14292836,  0.11908372,  0.13231169,\n",
            "        0.04644968,  0.11438149, -0.04607531,  0.09417613,  0.12039446,\n",
            "       -0.12465802, -0.02320177], dtype=float32), array([-0.13494644,  0.05569231,  0.14292836,  0.11908372,  0.13231169,\n",
            "        0.04644968,  0.11438149, -0.0460753 ,  0.09417613,  0.12039448,\n",
            "       -0.12465802, -0.02320177], dtype=float32), array([-0.13494644,  0.05569231,  0.14292836,  0.11908372,  0.13231169,\n",
            "        0.04644968,  0.11438149, -0.0460753 ,  0.09417613,  0.12039448,\n",
            "       -0.12465802, -0.02320177], dtype=float32), array([-0.13494644,  0.05569231,  0.14292836,  0.11908372,  0.13231169,\n",
            "        0.04644968,  0.11438149, -0.0460753 ,  0.09417613,  0.12039448,\n",
            "       -0.12465802, -0.02320177], dtype=float32), array([-0.13494644,  0.05569231,  0.14292836,  0.11908372,  0.13231169,\n",
            "        0.04644968,  0.11438149, -0.0460753 ,  0.09417613,  0.12039448,\n",
            "       -0.12465802, -0.02320177], dtype=float32)]\n"
          ]
        }
      ]
    },
    {
      "cell_type": "code",
      "source": [
        "!pip install -U kaleido"
      ],
      "metadata": {
        "colab": {
          "base_uri": "https://localhost:8080/"
        },
        "id": "F0QQ63r3cDJY",
        "outputId": "8569efe4-1833-4731-9179-10df83d89f41"
      },
      "execution_count": 53,
      "outputs": [
        {
          "output_type": "stream",
          "name": "stdout",
          "text": [
            "Requirement already satisfied: kaleido in /usr/local/lib/python3.11/dist-packages (0.2.1)\n"
          ]
        }
      ]
    },
    {
      "cell_type": "code",
      "source": [
        "save_hand_prediction_gif_matplotlib(predictions, ground_truth, y_scaler, times, filename=\"prediction_evolution.gif\")"
      ],
      "metadata": {
        "colab": {
          "base_uri": "https://localhost:8080/"
        },
        "id": "FKh8C4Zab7bj",
        "outputId": "96be122f-c0db-4686-a7f0-d3041afe982b"
      },
      "execution_count": 82,
      "outputs": [
        {
          "output_type": "stream",
          "name": "stdout",
          "text": [
            " GIF saved to: prediction_evolution.gif (30 frames)\n"
          ]
        }
      ]
    }
  ]
}